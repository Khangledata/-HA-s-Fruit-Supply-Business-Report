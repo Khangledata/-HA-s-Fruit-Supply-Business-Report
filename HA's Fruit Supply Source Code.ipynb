{
 "cells": [
  {
   "cell_type": "markdown",
   "id": "f947e262",
   "metadata": {},
   "source": [
    "# HA's Fruit Supply Business Report"
   ]
  },
  {
   "cell_type": "markdown",
   "id": "84397466",
   "metadata": {},
   "source": [
    "##### Conducted by: Khang Le Nhu Gia"
   ]
  },
  {
   "cell_type": "markdown",
   "id": "e37a4295",
   "metadata": {},
   "source": [
    "### Business context"
   ]
  },
  {
   "cell_type": "markdown",
   "id": "7ff2a8d3",
   "metadata": {},
   "source": [
    "\"HA\" is a newly established firm operated in Viet Nam specializing in supplying various type of fruits for one of Vietnam largest distributor (will not be disclosed in this report due to privacy)."
   ]
  },
  {
   "cell_type": "markdown",
   "id": "2f1b490a",
   "metadata": {},
   "source": [
    "For the scope of this project, timeline is between 01/10/2022 (the day the shop established) and 15/11/2022. Since this is a newly established shop, this project will only address two main question as following:\n",
    "- Which are the top performing provinces, shops and products regarding revenue?\n",
    "- How are drop-rates distributed across provinces, shops and products?"
   ]
  },
  {
   "cell_type": "markdown",
   "id": "ca695d35",
   "metadata": {},
   "source": [
    "Answering these two question will help the firm have a accurate perspective about their main revenue generators as well as determine whether there is inefficiency in their operations (high drop-rate indicates insufficient stocks or unqualified products)."
   ]
  },
  {
   "cell_type": "markdown",
   "id": "ebe4665f",
   "metadata": {},
   "source": [
    "### Data extraction using web scrapping"
   ]
  },
  {
   "cell_type": "code",
   "execution_count": 11,
   "id": "2d1a18ae",
   "metadata": {},
   "outputs": [],
   "source": [
    "import requests\n",
    "import pandas as pd\n",
    "from bs4 import BeautifulSoup\n",
    "import seaborn as sns"
   ]
  },
  {
   "cell_type": "code",
   "execution_count": 12,
   "id": "5c2b1125",
   "metadata": {},
   "outputs": [
    {
     "name": "stdout",
     "output_type": "stream",
     "text": [
      "Input start date (format: yyyy-mm-dd) 2022-10-01\n",
      "Input end date (format: yyyy-mm-dd) 2022-11-15\n"
     ]
    }
   ],
   "source": [
    "directory = 'C://Users//admin//Desktop//2022//'\n",
    "credential = open(directory + 'password.txt')\n",
    "line = credential.readlines()\n",
    "email = str(line[0].split()[0])\n",
    "password = str(line[1].split()[0])\n",
    "landing_page = str(line[2].split()[0])\n",
    "login_url = str(line[3].split()[0])\n",
    "po_page_url = str(line[4].split()[0])\n",
    "import_page_url = str(line[5].split()[0])\n",
    "export_detail_url = str(line[6].split()[0])\n",
    "from_date = input('Input start date (format: yyyy-mm-dd) ')\n",
    "to_date = input('Input end date (format: yyyy-mm-dd) ')\n",
    "list_PO = []\n",
    "chained_PO_code = ''\n",
    "excel_url = []"
   ]
  },
  {
   "cell_type": "code",
   "execution_count": 13,
   "id": "dfa32d82",
   "metadata": {},
   "outputs": [],
   "source": [
    "def login(email, password):\n",
    "    payload_login = {\n",
    "    'Email': email, \n",
    "    'Password': password\n",
    "    }\n",
    "    s = requests.Session()\n",
    "    r = s.get(landing_page)\n",
    "    soup = BeautifulSoup(r.content, 'html.parser')\n",
    "    payload_login['__RequestVerificationToken'] = soup.find('input', attrs={\"name\" : \"__RequestVerificationToken\"})['value']\n",
    "    login = s.post(login_url, data = payload_login)\n",
    "    return s"
   ]
  },
  {
   "cell_type": "code",
   "execution_count": 14,
   "id": "ba9849e6",
   "metadata": {},
   "outputs": [],
   "source": [
    "def import_page_1():\n",
    "    session = login(email, password)\n",
    "    payload = {'p': '1',\n",
    "               'fromDate': from_date,\n",
    "               'toDate': to_date,\n",
    "               'st': '1',\n",
    "               'doccodes': ''\n",
    "              }\n",
    "    import_page_no_1 = session.post(import_page_url, data = payload).text\n",
    "    import_page_no_1 = BeautifulSoup(import_page_no_1, 'html.parser')\n",
    "    import_table = import_page_no_1.find_all('tr')\n",
    "    total_row = len(import_table)\n",
    "    global chained_PO_code\n",
    "    for n in range(1, total_row):\n",
    "        PO = (import_table[n].find_all('td', attrs = {'class': 'sub_col'})[2]\n",
    "                             .getText()\n",
    "                             .split()[0])\n",
    "        chained_PO_code = chained_PO_code + \",\" + PO\n",
    "    chained_PO_code = chained_PO_code[1:]\n",
    "    return import_page_no_1"
   ]
  },
  {
   "cell_type": "code",
   "execution_count": 15,
   "id": "c9ec88b4",
   "metadata": {},
   "outputs": [],
   "source": [
    "def import_page_until_end():\n",
    "    next_page_button = import_page_1().find('li', attrs = {'class':\"paginate_button next\"})\n",
    "    while next_page_button is not None:\n",
    "        next_page_butt_url = next_page_button.find('a')['href']\n",
    "        next_page_number = next_page_butt_url.split(\"&\")[-1].split(\"=\")[-1]\n",
    "        session = login(email, password)\n",
    "        payload = {'p': next_page_number,\n",
    "                   'fromDate': from_date,\n",
    "                   'toDate': to_date,\n",
    "                   'st': '1',\n",
    "                   'doccodes': ''\n",
    "                  }\n",
    "        next_import_page = session.post(import_page_url, data = payload).text\n",
    "        next_import_page = BeautifulSoup(next_import_page, 'html.parser')\n",
    "        next_page_button = next_import_page.find('li', attrs = {'class':\"paginate_button next\"})\n",
    "        import_table = next_import_page.find_all('tr')\n",
    "        total_row = len(import_table)\n",
    "        global chained_PO_code\n",
    "        for n in range(1, total_row):\n",
    "            PO = (import_table[n].find_all('td', attrs = {'class': 'sub_col'})[2]\n",
    "                                 .getText()\n",
    "                                 .split()[0])\n",
    "            chained_PO_code = chained_PO_code + \",\" + PO\n",
    "    print(chained_PO_code)"
   ]
  },
  {
   "cell_type": "code",
   "execution_count": 16,
   "id": "71775c27",
   "metadata": {},
   "outputs": [],
   "source": [
    "def PO_page():\n",
    "    session = login(email, password)\n",
    "    payload = {'p': '1',\n",
    "               'ps': '100',\n",
    "               'status': '130',\n",
    "               'fdt': '1',\n",
    "               'fromDate': '',\n",
    "               'toDate': '',\n",
    "               'vs': '',\n",
    "               'city': '0',\n",
    "               'ndest': '0',\n",
    "               'code': chained_PO_code,\n",
    "               'tsi': ''\n",
    "                }\n",
    "    page = session.post(po_page_url, data = payload).text\n",
    "    page = BeautifulSoup(page, 'html.parser')\n",
    "    all_PO = page.find_all(\"a\", attrs = {'class': 'Tip_mouse_on lnkURL'})\n",
    "    for link in all_PO:\n",
    "        text = link['href']\n",
    "        text = text.split(\"-\")[-1]\n",
    "        start = 0\n",
    "        end = text.index('?')\n",
    "        code = text[start:end]\n",
    "        url = export_detail_url + code\n",
    "        list_PO.append(directory + code + '.xlsx')\n",
    "        excel_url.append(url)\n",
    "    return page"
   ]
  },
  {
   "cell_type": "code",
   "execution_count": 17,
   "id": "ca4ea7cc",
   "metadata": {},
   "outputs": [],
   "source": [
    "def PO_page_until_end():\n",
    "    next_page_button = PO_page().find('li', attrs = {'class':\"paginate_button next\"})\n",
    "    while next_page_button is not None:\n",
    "        next_page_butt_url = next_page_button.find('a')['href']\n",
    "        next_page_number = next_page_butt_url.split(\"&\")[-1].split(\"=\")[-1]\n",
    "        print(next_page_number)\n",
    "        session = login(email, password)\n",
    "        payload = {'p': next_page_number,\n",
    "                   'ps': '100',\n",
    "                   'status': '130',\n",
    "                   'fdt': '1',\n",
    "                   'fromDate': '',\n",
    "                   'toDate': '',\n",
    "                   'vs': '',\n",
    "                   'city': '0',\n",
    "                   'ndest': '0',\n",
    "                   'code': chained_PO_code,\n",
    "                   'tsi': ''\n",
    "                   }\n",
    "        page = session.post(po_page_url, data = payload).text\n",
    "        page = BeautifulSoup(page, 'html.parser')\n",
    "        all_PO = page.find_all(\"a\", attrs = {'class': 'Tip_mouse_on lnkURL'})\n",
    "        for link in all_PO:\n",
    "            text = link['href']\n",
    "            text = text.split(\"-\")[-1]\n",
    "            start = 0\n",
    "            end = text.index('?')\n",
    "            code = text[start:end]\n",
    "            url = export_detail_url + code\n",
    "            list_PO.append(directory + code + '.xlsx')\n",
    "            excel_url.append(url)\n",
    "        print(len(excel_url))"
   ]
  },
  {
   "cell_type": "code",
   "execution_count": 18,
   "id": "4b141fee",
   "metadata": {},
   "outputs": [],
   "source": [
    "def download(name, link):\n",
    "    session = login(email, password)\n",
    "    with open(name, 'wb') as f:\n",
    "        for chunk in session.get(link).iter_content(chunk_size = 8192):\n",
    "            if chunk:\n",
    "                f.write(chunk)\n",
    "            print(name +': successful')"
   ]
  },
  {
   "cell_type": "code",
   "execution_count": 19,
   "id": "0671da82",
   "metadata": {},
   "outputs": [],
   "source": [
    "def change_shop_name(shop):\n",
    "    return shop[2:]"
   ]
  },
  {
   "cell_type": "code",
   "execution_count": 20,
   "id": "7bb46fcf",
   "metadata": {},
   "outputs": [
    {
     "name": "stdout",
     "output_type": "stream",
     "text": [
      "4144196709,4144203714,4144196766,4144196761,4144203718,4144203586,4144196708,4144028921,4144157556,4144196705,4144201891,4144157472,4144028753,4144146807,4144028749,4144086579,4144028774,4144086575,4144028722,4144028639,4144028604,4144086211,4144082943,4144028641,4144027340,4144027336,4144028586,4144058712,4144028542,4144027464,4144028498,4144026468,4144028531,4144026472,4144044818,4143856874,4144028498,4144026468,4144020156,4143856879,4143954692,4143856841,4143954781,4143856919,4143915074,4143856918,4143914390,4143914393,4143914392,4143856863,4143856921,4143856255,4143856116,4143856120,4143900975,4143856792,4143855977,4143682256,4143855980,4143854695,4143682248,4143789171,4143789167,4143734701,4143819076,4143682245,4143734697,4143685216,4143682228,4143685220,4143685287,4143685287,4143685284,4143682224,4143685286,4143686475,4143686800,4143697993,4143447788,4143683460,4143670585,4143447785,4143585914,4143653671,4143629448,4143650416,4143637184,4143447533,4143507148,4143583296,4143603677,4143507151,4143447530,4143447528,4143447147,4143447525,4143447148,9101609244,4143251783,4143374598,4143251779,4143374602,4143305316,4143251771,4143305320,4143292532,4143251765,4143241943,4143385064,4143374679,4143340110,4143241939,4143251820,4143242237,4143344870,4143268053,4143305684,4143251730,4143242241,4143309700,4143307821,4143303216,4143302656,4143265120,4143295743,4143266294,4143287584,4143286711,4143264410,4143264355,4143035986,4143266578,4143266168,4143264907,4143264055,4143264109,4143035978,4143095164,4143095167,4143035971,4143030815,4143030819,4143035966,4142826077,4142890874\n"
     ]
    }
   ],
   "source": [
    "import_page_until_end()"
   ]
  },
  {
   "cell_type": "code",
   "execution_count": 21,
   "id": "4b92771c",
   "metadata": {},
   "outputs": [],
   "source": [
    "PO_page_until_end()"
   ]
  },
  {
   "cell_type": "code",
   "execution_count": 22,
   "id": "362199a6",
   "metadata": {},
   "outputs": [
    {
     "name": "stdout",
     "output_type": "stream",
     "text": [
      "C://Users//admin//Desktop//2022//102105974.xlsx: successful\n",
      "C://Users//admin//Desktop//2022//102124124.xlsx: successful\n",
      "C://Users//admin//Desktop//2022//102105455.xlsx: successful\n",
      "C://Users//admin//Desktop//2022//102124371.xlsx: successful\n",
      "C://Users//admin//Desktop//2022//102105983.xlsx: successful\n",
      "C://Users//admin//Desktop//2022//102105981.xlsx: successful\n",
      "C://Users//admin//Desktop//2022//102124440.xlsx: successful\n",
      "C://Users//admin//Desktop//2022//102105937.xlsx: successful\n",
      "C://Users//admin//Desktop//2022//102123975.xlsx: successful\n",
      "C://Users//admin//Desktop//2022//101696188.xlsx: successful\n",
      "C://Users//admin//Desktop//2022//102010152.xlsx: successful\n",
      "C://Users//admin//Desktop//2022//101695988.xlsx: successful\n",
      "C://Users//admin//Desktop//2022//102010035.xlsx: successful\n",
      "C://Users//admin//Desktop//2022//101696008.xlsx: successful\n",
      "C://Users//admin//Desktop//2022//101993153.xlsx: successful\n",
      "C://Users//admin//Desktop//2022//101849340.xlsx: successful\n",
      "C://Users//admin//Desktop//2022//101695966.xlsx: successful\n",
      "C://Users//admin//Desktop//2022//101696010.xlsx: successful\n",
      "C://Users//admin//Desktop//2022//101849652.xlsx: successful\n",
      "C://Users//admin//Desktop//2022//101695841.xlsx: successful\n",
      "C://Users//admin//Desktop//2022//101849240.xlsx: successful\n",
      "C://Users//admin//Desktop//2022//101695862.xlsx: successful\n",
      "C://Users//admin//Desktop//2022//101693743.xlsx: successful\n",
      "C://Users//admin//Desktop//2022//101695832.xlsx: successful\n",
      "C://Users//admin//Desktop//2022//101852356.xlsx: successful\n",
      "C://Users//admin//Desktop//2022//101695864.xlsx: successful\n",
      "C://Users//admin//Desktop//2022//101693853.xlsx: successful\n",
      "C://Users//admin//Desktop//2022//101695801.xlsx: successful\n",
      "C://Users//admin//Desktop//2022//101693636.xlsx: successful\n",
      "C://Users//admin//Desktop//2022//101796637.xlsx: successful\n",
      "C://Users//admin//Desktop//2022//101695818.xlsx: successful\n",
      "C://Users//admin//Desktop//2022//101693935.xlsx: successful\n",
      "C://Users//admin//Desktop//2022//101695766.xlsx: successful\n",
      "C://Users//admin//Desktop//2022//101693392.xlsx: successful\n",
      "C://Users//admin//Desktop//2022//101755137.xlsx: successful\n",
      "C://Users//admin//Desktop//2022//101289780.xlsx: successful\n",
      "C://Users//admin//Desktop//2022//101289712.xlsx: successful\n",
      "C://Users//admin//Desktop//2022//101538460.xlsx: successful\n",
      "C://Users//admin//Desktop//2022//101683444.xlsx: successful\n",
      "C://Users//admin//Desktop//2022//101289771.xlsx: successful\n",
      "C://Users//admin//Desktop//2022//101563083.xlsx: successful\n",
      "C://Users//admin//Desktop//2022//101436392.xlsx: successful\n",
      "C://Users//admin//Desktop//2022//101289835.xlsx: successful\n",
      "C://Users//admin//Desktop//2022//101436822.xlsx: successful\n",
      "C://Users//admin//Desktop//2022//101436263.xlsx: successful\n",
      "C://Users//admin//Desktop//2022//101289758.xlsx: successful\n",
      "C://Users//admin//Desktop//2022//101289826.xlsx: successful\n",
      "C://Users//admin//Desktop//2022//101435924.xlsx: successful\n",
      "C://Users//admin//Desktop//2022//101288049.xlsx: successful\n",
      "C://Users//admin//Desktop//2022//101289838.xlsx: successful\n",
      "C://Users//admin//Desktop//2022//101288601.xlsx: successful\n",
      "C://Users//admin//Desktop//2022//101287879.xlsx: successful\n",
      "C://Users//admin//Desktop//2022//101412713.xlsx: successful\n",
      "C://Users//admin//Desktop//2022//101289641.xlsx: successful\n",
      "C://Users//admin//Desktop//2022//101287434.xlsx: successful\n",
      "C://Users//admin//Desktop//2022//101287697.xlsx: successful\n",
      "C://Users//admin//Desktop//2022//100881406.xlsx: successful\n",
      "C://Users//admin//Desktop//2022//101283543.xlsx: successful\n",
      "C://Users//admin//Desktop//2022//100881392.xlsx: successful\n",
      "C://Users//admin//Desktop//2022//101129983.xlsx: successful\n",
      "C://Users//admin//Desktop//2022//101129882.xlsx: successful\n",
      "C://Users//admin//Desktop//2022//101008729.xlsx: successful\n",
      "C://Users//admin//Desktop//2022//101223747.xlsx: successful\n",
      "C://Users//admin//Desktop//2022//100881381.xlsx: successful\n",
      "C://Users//admin//Desktop//2022//101009348.xlsx: successful\n",
      "C://Users//admin//Desktop//2022//100904114.xlsx: successful\n",
      "C://Users//admin//Desktop//2022//100881364.xlsx: successful\n",
      "C://Users//admin//Desktop//2022//100904220.xlsx: successful\n",
      "C://Users//admin//Desktop//2022//100904426.xlsx: successful\n",
      "C://Users//admin//Desktop//2022//100904282.xlsx: successful\n",
      "C://Users//admin//Desktop//2022//100881357.xlsx: successful\n",
      "C://Users//admin//Desktop//2022//100904394.xlsx: successful\n",
      "C://Users//admin//Desktop//2022//100907988.xlsx: successful\n",
      "C://Users//admin//Desktop//2022//100908365.xlsx: successful\n",
      "C://Users//admin//Desktop//2022//100946007.xlsx: successful\n",
      "C://Users//admin//Desktop//2022//100411209.xlsx: successful\n",
      "C://Users//admin//Desktop//2022//100905098.xlsx: successful\n",
      "C://Users//admin//Desktop//2022//100898768.xlsx: successful\n",
      "C://Users//admin//Desktop//2022//100411170.xlsx: successful\n",
      "C://Users//admin//Desktop//2022//100691840.xlsx: successful\n",
      "C://Users//admin//Desktop//2022//100858208.xlsx: successful\n",
      "C://Users//admin//Desktop//2022//100764556.xlsx: successful\n",
      "C://Users//admin//Desktop//2022//100852604.xlsx: successful\n",
      "C://Users//admin//Desktop//2022//100784137.xlsx: successful\n",
      "C://Users//admin//Desktop//2022//100411136.xlsx: successful\n",
      "C://Users//admin//Desktop//2022//100532369.xlsx: successful\n",
      "C://Users//admin//Desktop//2022//100690077.xlsx: successful\n",
      "C://Users//admin//Desktop//2022//100714031.xlsx: successful\n",
      "C://Users//admin//Desktop//2022//100532497.xlsx: successful\n",
      "C://Users//admin//Desktop//2022//100411083.xlsx: successful\n",
      "C://Users//admin//Desktop//2022//100411030.xlsx: successful\n"
     ]
    }
   ],
   "source": [
    "for num in range(len(excel_url)):\n",
    "    download(list_PO[num], excel_url[num])"
   ]
  },
  {
   "cell_type": "markdown",
   "id": "164d15e3",
   "metadata": {},
   "source": [
    "### Data transformation"
   ]
  },
  {
   "cell_type": "code",
   "execution_count": 23,
   "id": "7c65027d",
   "metadata": {},
   "outputs": [],
   "source": [
    "df1 = pd.read_excel(list_PO[0])\n",
    "df2 = list_PO[1:]\n",
    "for file in df2:\n",
    "    df2 = pd.read_excel(file)\n",
    "    df1 = pd.concat([df1, df2])"
   ]
  },
  {
   "cell_type": "code",
   "execution_count": 24,
   "id": "72a7d817",
   "metadata": {},
   "outputs": [
    {
     "data": {
      "text/html": [
       "<div>\n",
       "<style scoped>\n",
       "    .dataframe tbody tr th:only-of-type {\n",
       "        vertical-align: middle;\n",
       "    }\n",
       "\n",
       "    .dataframe tbody tr th {\n",
       "        vertical-align: top;\n",
       "    }\n",
       "\n",
       "    .dataframe thead th {\n",
       "        text-align: right;\n",
       "    }\n",
       "</style>\n",
       "<table border=\"1\" class=\"dataframe\">\n",
       "  <thead>\n",
       "    <tr style=\"text-align: right;\">\n",
       "      <th></th>\n",
       "      <th>STT</th>\n",
       "      <th>Mã đơn hàng</th>\n",
       "      <th>Miền</th>\n",
       "      <th>Tỉnh</th>\n",
       "      <th>Mã NCC (Site nguồn)</th>\n",
       "      <th>Tên NCC</th>\n",
       "      <th>Địa chỉ NCC</th>\n",
       "      <th>Mã Sub Range</th>\n",
       "      <th>Tên Sub Range</th>\n",
       "      <th>Mã điểm giao</th>\n",
       "      <th>...</th>\n",
       "      <th>Ngày NCC hẹn giao hàng</th>\n",
       "      <th>Khung giờ hẹn giao hàng</th>\n",
       "      <th>Ngày xác nhận giao hàng</th>\n",
       "      <th>Khung giờ xác nhận giao hàng</th>\n",
       "      <th>Ngày giao hàng</th>\n",
       "      <th>Ngày gia hạn</th>\n",
       "      <th>Trạng thái</th>\n",
       "      <th>Ngày cập nhật</th>\n",
       "      <th>Chú thích 1</th>\n",
       "      <th>Chú thích 2</th>\n",
       "    </tr>\n",
       "  </thead>\n",
       "  <tbody>\n",
       "    <tr>\n",
       "      <th>0</th>\n",
       "      <td>1</td>\n",
       "      <td>4144196709</td>\n",
       "      <td>Miền Nam</td>\n",
       "      <td>TP. Hồ Chí Minh</td>\n",
       "      <td>2008400</td>\n",
       "      <td>CTY TNHH TM XNK THỰC PHẨM HÒA AN</td>\n",
       "      <td>351/5C Lê Đại Hành, Phường 11,   Quận 11,</td>\n",
       "      <td>NaN</td>\n",
       "      <td>NaN</td>\n",
       "      <td>1218</td>\n",
       "      <td>...</td>\n",
       "      <td>NaN</td>\n",
       "      <td>NaN</td>\n",
       "      <td>NaN</td>\n",
       "      <td>NaN</td>\n",
       "      <td>2022-11-15 21:01:36</td>\n",
       "      <td>NaN</td>\n",
       "      <td>Đã giao hàng</td>\n",
       "      <td>2022-11-16 21:05:01.877</td>\n",
       "      <td>NaN</td>\n",
       "      <td>NaN</td>\n",
       "    </tr>\n",
       "    <tr>\n",
       "      <th>0</th>\n",
       "      <td>1</td>\n",
       "      <td>4144203586</td>\n",
       "      <td>Miền Nam</td>\n",
       "      <td>TP. Hồ Chí Minh</td>\n",
       "      <td>2008400</td>\n",
       "      <td>CTY TNHH TM XNK THỰC PHẨM HÒA AN</td>\n",
       "      <td>351/5C Lê Đại Hành, Phường 11,   Quận 11,</td>\n",
       "      <td>NaN</td>\n",
       "      <td>NaN</td>\n",
       "      <td>1113</td>\n",
       "      <td>...</td>\n",
       "      <td>NaN</td>\n",
       "      <td>NaN</td>\n",
       "      <td>NaN</td>\n",
       "      <td>NaN</td>\n",
       "      <td>2022-11-14 01:41:12</td>\n",
       "      <td>NaN</td>\n",
       "      <td>Đã giao hàng</td>\n",
       "      <td>2022-11-16 01:45:00.783</td>\n",
       "      <td>NaN</td>\n",
       "      <td>NaN</td>\n",
       "    </tr>\n",
       "    <tr>\n",
       "      <th>1</th>\n",
       "      <td>2</td>\n",
       "      <td>4144203586</td>\n",
       "      <td>Miền Nam</td>\n",
       "      <td>TP. Hồ Chí Minh</td>\n",
       "      <td>2008400</td>\n",
       "      <td>CTY TNHH TM XNK THỰC PHẨM HÒA AN</td>\n",
       "      <td>351/5C Lê Đại Hành, Phường 11,   Quận 11,</td>\n",
       "      <td>NaN</td>\n",
       "      <td>NaN</td>\n",
       "      <td>1113</td>\n",
       "      <td>...</td>\n",
       "      <td>NaN</td>\n",
       "      <td>NaN</td>\n",
       "      <td>NaN</td>\n",
       "      <td>NaN</td>\n",
       "      <td>2022-11-14 01:41:12</td>\n",
       "      <td>NaN</td>\n",
       "      <td>Đã giao hàng</td>\n",
       "      <td>2022-11-16 01:45:00.783</td>\n",
       "      <td>NaN</td>\n",
       "      <td>NaN</td>\n",
       "    </tr>\n",
       "    <tr>\n",
       "      <th>0</th>\n",
       "      <td>1</td>\n",
       "      <td>4144196708</td>\n",
       "      <td>Miền Nam</td>\n",
       "      <td>TP. Hồ Chí Minh</td>\n",
       "      <td>2008400</td>\n",
       "      <td>CTY TNHH TM XNK THỰC PHẨM HÒA AN</td>\n",
       "      <td>351/5C Lê Đại Hành, Phường 11,   Quận 11,</td>\n",
       "      <td>NaN</td>\n",
       "      <td>NaN</td>\n",
       "      <td>1218</td>\n",
       "      <td>...</td>\n",
       "      <td>NaN</td>\n",
       "      <td>NaN</td>\n",
       "      <td>NaN</td>\n",
       "      <td>NaN</td>\n",
       "      <td>2022-11-14 01:39:47</td>\n",
       "      <td>NaN</td>\n",
       "      <td>Đã giao hàng</td>\n",
       "      <td>2022-11-16 01:40:00.530</td>\n",
       "      <td>NaN</td>\n",
       "      <td>NaN</td>\n",
       "    </tr>\n",
       "    <tr>\n",
       "      <th>0</th>\n",
       "      <td>1</td>\n",
       "      <td>4144203714</td>\n",
       "      <td>Miền Trung</td>\n",
       "      <td>TP. Đà Nẵng</td>\n",
       "      <td>2008400</td>\n",
       "      <td>CTY TNHH TM XNK THỰC PHẨM HÒA AN</td>\n",
       "      <td>351/5C Lê Đại Hành, Phường 11,   Quận 11,</td>\n",
       "      <td>NaN</td>\n",
       "      <td>NaN</td>\n",
       "      <td>1237</td>\n",
       "      <td>...</td>\n",
       "      <td>NaN</td>\n",
       "      <td>NaN</td>\n",
       "      <td>NaN</td>\n",
       "      <td>NaN</td>\n",
       "      <td>2022-11-15 01:23:24</td>\n",
       "      <td>NaN</td>\n",
       "      <td>Đã giao hàng</td>\n",
       "      <td>2022-11-16 01:25:00.693</td>\n",
       "      <td>NaN</td>\n",
       "      <td>NaN</td>\n",
       "    </tr>\n",
       "  </tbody>\n",
       "</table>\n",
       "<p>5 rows × 35 columns</p>\n",
       "</div>"
      ],
      "text/plain": [
       "   STT  Mã đơn hàng        Miền             Tỉnh  Mã NCC (Site nguồn)  \\\n",
       "0    1   4144196709    Miền Nam  TP. Hồ Chí Minh              2008400   \n",
       "0    1   4144203586    Miền Nam  TP. Hồ Chí Minh              2008400   \n",
       "1    2   4144203586    Miền Nam  TP. Hồ Chí Minh              2008400   \n",
       "0    1   4144196708    Miền Nam  TP. Hồ Chí Minh              2008400   \n",
       "0    1   4144203714  Miền Trung      TP. Đà Nẵng              2008400   \n",
       "\n",
       "                            Tên NCC  \\\n",
       "0  CTY TNHH TM XNK THỰC PHẨM HÒA AN   \n",
       "0  CTY TNHH TM XNK THỰC PHẨM HÒA AN   \n",
       "1  CTY TNHH TM XNK THỰC PHẨM HÒA AN   \n",
       "0  CTY TNHH TM XNK THỰC PHẨM HÒA AN   \n",
       "0  CTY TNHH TM XNK THỰC PHẨM HÒA AN   \n",
       "\n",
       "                                 Địa chỉ NCC  Mã Sub Range  Tên Sub Range  \\\n",
       "0  351/5C Lê Đại Hành, Phường 11,   Quận 11,           NaN            NaN   \n",
       "0  351/5C Lê Đại Hành, Phường 11,   Quận 11,           NaN            NaN   \n",
       "1  351/5C Lê Đại Hành, Phường 11,   Quận 11,           NaN            NaN   \n",
       "0  351/5C Lê Đại Hành, Phường 11,   Quận 11,           NaN            NaN   \n",
       "0  351/5C Lê Đại Hành, Phường 11,   Quận 11,           NaN            NaN   \n",
       "\n",
       "   Mã điểm giao  ... Ngày NCC hẹn giao hàng Khung giờ hẹn giao hàng  \\\n",
       "0          1218  ...                    NaN                     NaN   \n",
       "0          1113  ...                    NaN                     NaN   \n",
       "1          1113  ...                    NaN                     NaN   \n",
       "0          1218  ...                    NaN                     NaN   \n",
       "0          1237  ...                    NaN                     NaN   \n",
       "\n",
       "  Ngày xác nhận giao hàng  Khung giờ xác nhận giao hàng      Ngày giao hàng  \\\n",
       "0                     NaN                           NaN 2022-11-15 21:01:36   \n",
       "0                     NaN                           NaN 2022-11-14 01:41:12   \n",
       "1                     NaN                           NaN 2022-11-14 01:41:12   \n",
       "0                     NaN                           NaN 2022-11-14 01:39:47   \n",
       "0                     NaN                           NaN 2022-11-15 01:23:24   \n",
       "\n",
       "  Ngày gia hạn    Trạng thái           Ngày cập nhật  Chú thích 1  Chú thích 2  \n",
       "0          NaN  Đã giao hàng 2022-11-16 21:05:01.877          NaN          NaN  \n",
       "0          NaN  Đã giao hàng 2022-11-16 01:45:00.783          NaN          NaN  \n",
       "1          NaN  Đã giao hàng 2022-11-16 01:45:00.783          NaN          NaN  \n",
       "0          NaN  Đã giao hàng 2022-11-16 01:40:00.530          NaN          NaN  \n",
       "0          NaN  Đã giao hàng 2022-11-16 01:25:00.693          NaN          NaN  \n",
       "\n",
       "[5 rows x 35 columns]"
      ]
     },
     "execution_count": 24,
     "metadata": {},
     "output_type": "execute_result"
    }
   ],
   "source": [
    "df1.head()"
   ]
  },
  {
   "cell_type": "code",
   "execution_count": 25,
   "id": "fdadc317",
   "metadata": {},
   "outputs": [],
   "source": [
    "df1 = (df1.filter(['Mã đơn hàng',\n",
    "                  'Tỉnh',\n",
    "                  'Tên điểm giao',\n",
    "                  'Tên hàng',\n",
    "                  'ĐVT',\n",
    "                  'Đơn giá',\n",
    "                  'Số lượng đặt hàng',\n",
    "                  'Số lượng thực tế giao hàng',\n",
    "                  'Ngày đặt hàng',\n",
    "                  'Ngày giao hàng'])\n",
    "          .reset_index(drop = True))"
   ]
  },
  {
   "cell_type": "code",
   "execution_count": 26,
   "id": "942a8c27",
   "metadata": {},
   "outputs": [],
   "source": [
    "df1 = df1.rename(columns = {'Mã đơn hàng': 'po',\n",
    "                            'Tỉnh': 'province',\n",
    "                            'Tên điểm giao': 'shop',\n",
    "                            'Tên hàng': 'product',\n",
    "                            'ĐVT': 'measurement',\n",
    "                            'Đơn giá': 'price',\n",
    "                            'Số lượng đặt hàng': 'amount_ordered',\n",
    "                            'Số lượng thực tế giao hàng':'amount_delivered'\n",
    "                            })"
   ]
  },
  {
   "cell_type": "code",
   "execution_count": 27,
   "id": "4a01a2b7",
   "metadata": {},
   "outputs": [],
   "source": [
    "df1['revenue'] =  df1['price'] * df1['amount_delivered']\n",
    "df1['drop_rate'] = 1 - (df1['amount_delivered'] / df1['amount_ordered'])"
   ]
  },
  {
   "cell_type": "code",
   "execution_count": 28,
   "id": "e26578bd",
   "metadata": {},
   "outputs": [],
   "source": [
    "df1 = df1.replace({'province':{', TP. Hồ Chí Minh,' : 'TP. Hồ Chí Minh'}})"
   ]
  },
  {
   "cell_type": "code",
   "execution_count": 29,
   "id": "50037b55",
   "metadata": {},
   "outputs": [
    {
     "data": {
      "text/plain": [
       "array(['TP. Hồ Chí Minh', 'TP. Đà Nẵng', 'T. Bình Dương'], dtype=object)"
      ]
     },
     "execution_count": 29,
     "metadata": {},
     "output_type": "execute_result"
    }
   ],
   "source": [
    "df1.province.unique()"
   ]
  },
  {
   "cell_type": "code",
   "execution_count": 30,
   "id": "87954f03",
   "metadata": {},
   "outputs": [],
   "source": [
    "df1['shop'] = df1['shop'].apply(change_shop_name)"
   ]
  },
  {
   "cell_type": "code",
   "execution_count": 31,
   "id": "40f36e92",
   "metadata": {},
   "outputs": [
    {
     "data": {
      "text/plain": [
       "array(['P_Fresh_Miền Nam_Trái Cây Nhập Kh',\n",
       "       'T_Fresh_Miền Nam_Trái Cây Nhập Kh',\n",
       "       'T_Fresh_Miền Trung_Trái Cây Nhập',\n",
       "       'P_Fresh_Miền Trung_Trái cây Nhập', ' VCC HCM Landmark 81',\n",
       "       ' VCC HCM Đồng Khởi', '+ HCM 26/4B Ấp Đông Lân',\n",
       "       ' VCC HCM Thảo Điền', ' VC+ HCM Nguyễn Duy Trinh', ' HCM Hưng Gia',\n",
       "       ' VCP HCM Ba Tháng Hai', ' VCP HCM Lê Văn Việt',\n",
       "       ' VC+ HCM Phổ Quang', ' HCM Diamond', ' BDG Mỹ Phước 1',\n",
       "       ' HCM Trung Sơn', ' HCM Bình Trưng'], dtype=object)"
      ]
     },
     "execution_count": 31,
     "metadata": {},
     "output_type": "execute_result"
    }
   ],
   "source": [
    "df1.shop.unique()"
   ]
  },
  {
   "cell_type": "markdown",
   "id": "6911e701",
   "metadata": {},
   "source": [
    "### Part 1: Revenue"
   ]
  },
  {
   "cell_type": "markdown",
   "id": "fb6a7ffd",
   "metadata": {},
   "source": [
    "Q1: How is revenue distributed across provinces?"
   ]
  },
  {
   "cell_type": "code",
   "execution_count": 32,
   "id": "d2a9c6d6",
   "metadata": {},
   "outputs": [
    {
     "data": {
      "text/plain": [
       "<AxesSubplot:xlabel='province', ylabel='revenue'>"
      ]
     },
     "execution_count": 32,
     "metadata": {},
     "output_type": "execute_result"
    },
    {
     "data": {
      "image/png": "[encoded data removed]",
      "text/plain": [
       "<Figure size 432x288 with 1 Axes>"
      ]
     },
     "metadata": {
      "needs_background": "light"
     },
     "output_type": "display_data"
    }
   ],
   "source": [
    "sns.barplot(data = (df1.groupby('province')\n",
    "                        .agg('sum')\n",
    "                        .filter(['province', 'revenue'])\n",
    "                        .sort_values(by = 'revenue', ascending = False)\n",
    "                        .reset_index()\n",
    "                    ),\n",
    "            x = 'province',\n",
    "            y = 'revenue',\n",
    "            color = 'darkcyan')"
   ]
  },
  {
   "cell_type": "markdown",
   "id": "7063491f",
   "metadata": {},
   "source": [
    "TP. Đà Nẵng and TP. Hồ Chí Minh generated the lion share of total revenue (with revenue from TP. Đà Nẵng almost tripled that from TP. Hồ Chí Minh). Later on, we will take a look at what are the main drivers (shops and products) of this trend."
   ]
  },
  {
   "cell_type": "markdown",
   "id": "13b8fc90",
   "metadata": {},
   "source": [
    "Q2: Which are the top 5 stores generate the most revenue?"
   ]
  },
  {
   "cell_type": "code",
   "execution_count": 33,
   "id": "c0a1ee02",
   "metadata": {},
   "outputs": [
    {
     "data": {
      "text/plain": [
       "<AxesSubplot:xlabel='revenue', ylabel='shop'>"
      ]
     },
     "execution_count": 33,
     "metadata": {},
     "output_type": "execute_result"
    },
    {
     "data": {
      "image/png": "[encoded data removed]",
      "text/plain": [
       "<Figure size 432x288 with 1 Axes>"
      ]
     },
     "metadata": {
      "needs_background": "light"
     },
     "output_type": "display_data"
    }
   ],
   "source": [
    "sns.barplot(data = (df1.groupby('shop')\n",
    "                        .agg('sum')\n",
    "                        .filter(['shop', 'revenue'])\n",
    "                        .sort_values(by = 'revenue', ascending = False)\n",
    "                        .reset_index()\n",
    "                    ),\n",
    "            y = 'shop',\n",
    "            x = 'revenue',\n",
    "            color = 'darkcyan')"
   ]
  },
  {
   "cell_type": "markdown",
   "id": "67bfee03",
   "metadata": {},
   "source": [
    "The highest amount of revenue was generated by \"P_Fresh_Miền Trung\", a store from TP. Đà Nẵng; ranked in second is \"P_Fresh Ho Chi Minh\" from TP. Hồ Chí Minh. \"T_Fresh_Miền Trung\" which ranked at fourth is from TP. Đà Nẵng while the remaining stores are from either TP. Hồ Chí Minh or Bình Dương."
   ]
  },
  {
   "cell_type": "markdown",
   "id": "6603fb00",
   "metadata": {},
   "source": [
    "Q3: How is revenue distributed across products?"
   ]
  },
  {
   "cell_type": "code",
   "execution_count": 34,
   "id": "b018155a",
   "metadata": {},
   "outputs": [
    {
     "data": {
      "text/plain": [
       "<AxesSubplot:xlabel='revenue', ylabel='product'>"
      ]
     },
     "execution_count": 34,
     "metadata": {},
     "output_type": "execute_result"
    },
    {
     "data": {
      "image/png": "[encoded data removed]",
      "text/plain": [
       "<Figure size 432x288 with 1 Axes>"
      ]
     },
     "metadata": {
      "needs_background": "light"
     },
     "output_type": "display_data"
    }
   ],
   "source": [
    "sns.barplot(data = (df1.groupby('product')\n",
    "                       .agg('sum')\n",
    "                       .sort_values(by = 'revenue', ascending = False)\n",
    "                       .reset_index()),\n",
    "            y = 'product',\n",
    "            x = 'revenue',\n",
    "            color = 'darkcyan')"
   ]
  },
  {
   "cell_type": "markdown",
   "id": "2cd8f259",
   "metadata": {},
   "source": [
    "There were two products that generated the most of total revenue: the first was \"Nho đen Mỹ\"; the second was \"Lê Đỏ Nam Phi\"."
   ]
  },
  {
   "cell_type": "code",
   "execution_count": 35,
   "id": "54c82189",
   "metadata": {},
   "outputs": [
    {
     "name": "stdout",
     "output_type": "stream",
     "text": [
      "Object `drivers` not found.\n"
     ]
    }
   ],
   "source": [
    "Q4: From the two stores that generated the highest revenue, which products are their main revenue drivers?"
   ]
  },
  {
   "cell_type": "code",
   "execution_count": null,
   "id": "4850cf69",
   "metadata": {},
   "outputs": [],
   "source": [
    "Q4: From the two stores that generated the highest revenue, which products are their main revenue drivers"
   ]
  },
  {
   "cell_type": "code",
   "execution_count": 36,
   "id": "abffcafa",
   "metadata": {},
   "outputs": [
    {
     "data": {
      "text/plain": [
       "<AxesSubplot:xlabel='revenue', ylabel='product'>"
      ]
     },
     "execution_count": 36,
     "metadata": {},
     "output_type": "execute_result"
    },
    {
     "data": {
      "image/png": "[encoded data removed]",
      "text/plain": [
       "<Figure size 432x288 with 1 Axes>"
      ]
     },
     "metadata": {
      "needs_background": "light"
     },
     "output_type": "display_data"
    }
   ],
   "source": [
    "sns.barplot(data = (df1.query('shop == \"P_Fresh_Miền Trung_Trái cây Nhập\" or shop == \"P_Fresh_Miền Nam_Trái Cây Nhập Kh\"')\n",
    "                       .groupby(['shop','product'])\n",
    "                       .agg('sum')\n",
    "                       .sort_values(by = 'revenue', ascending = False)\n",
    "                       .reset_index()),\n",
    "            y = 'product',\n",
    "            x = 'revenue',\n",
    "            hue = 'shop',)"
   ]
  },
  {
   "cell_type": "markdown",
   "id": "9e87e025",
   "metadata": {},
   "source": [
    "Interestingly, \"Nho đen Mỹ\" was  supplied to only \"P_Fresh_Miền Trung\" from TP. Đà Nẵng not \"P_Fresh_Miền Nam\" from TP. Hồ Chí Minh. Despite this, \"Nho đen Mỹ\" contributed the most to total revenue."
   ]
  },
  {
   "cell_type": "markdown",
   "id": "7ca059cd",
   "metadata": {},
   "source": [
    "### Part 2: Drop-rate"
   ]
  },
  {
   "cell_type": "markdown",
   "id": "a5d1c471",
   "metadata": {},
   "source": [
    "Q5: How is drop-rate distributed?"
   ]
  },
  {
   "cell_type": "code",
   "execution_count": 37,
   "id": "2a90b781",
   "metadata": {},
   "outputs": [
    {
     "data": {
      "text/plain": [
       "<AxesSubplot:xlabel='drop_rate', ylabel='Count'>"
      ]
     },
     "execution_count": 37,
     "metadata": {},
     "output_type": "execute_result"
    },
    {
     "data": {
      "image/png": "[encoded data removed]",
      "text/plain": [
       "<Figure size 432x288 with 1 Axes>"
      ]
     },
     "metadata": {
      "needs_background": "light"
     },
     "output_type": "display_data"
    }
   ],
   "source": [
    "sns.histplot(data = df1, x = 'drop_rate', bins = 30, color = 'darkred')"
   ]
  },
  {
   "cell_type": "markdown",
   "id": "4258de1a",
   "metadata": {},
   "source": [
    "Drop-rate distributed largely from 0%-20%, which was around the regular benchmark of the fruit industry. However, there was a spike in the number of orders that had 90%-100% drop-rate; which is quite unusual, we will discover why this happen later on."
   ]
  },
  {
   "cell_type": "markdown",
   "id": "c423ad86",
   "metadata": {},
   "source": [
    "Q6: How is drop-rate distributed across provinces?"
   ]
  },
  {
   "cell_type": "code",
   "execution_count": 38,
   "id": "55dcedba",
   "metadata": {},
   "outputs": [
    {
     "data": {
      "text/plain": [
       "<seaborn.axisgrid.FacetGrid at 0xe56ca18>"
      ]
     },
     "execution_count": 38,
     "metadata": {},
     "output_type": "execute_result"
    },
    {
     "data": {
      "image/png": "[encoded data removed]",
      "text/plain": [
       "<Figure size 648x216 with 3 Axes>"
      ]
     },
     "metadata": {
      "needs_background": "light"
     },
     "output_type": "display_data"
    }
   ],
   "source": [
    "sns.FacetGrid(data = df1, col = 'province').map(sns.histplot, 'drop_rate', bins = 30, color = 'darkred')"
   ]
  },
  {
   "cell_type": "markdown",
   "id": "9afdfb25",
   "metadata": {},
   "source": [
    "Drilling the data to provinces we can see that the majority of orders that had drop-rates between 90%-100% came from TP. Đà Nẵng. We will continue drilling down to product-level in TP. Đà Nẵng to determine which products caused this."
   ]
  },
  {
   "cell_type": "markdown",
   "id": "576a7b10",
   "metadata": {},
   "source": [
    "Q7: How is drop-rate distributed across products sold in TP. Đà Nẵng?"
   ]
  },
  {
   "cell_type": "code",
   "execution_count": 39,
   "id": "cd59a2c0",
   "metadata": {},
   "outputs": [
    {
     "data": {
      "text/plain": [
       "<seaborn.axisgrid.FacetGrid at 0xe6f7fe8>"
      ]
     },
     "execution_count": 39,
     "metadata": {},
     "output_type": "execute_result"
    },
    {
     "data": {
      "image/png": "[encoded data removed]",
      "text/plain": [
       "<Figure size 1080x432 with 9 Axes>"
      ]
     },
     "metadata": {
      "needs_background": "light"
     },
     "output_type": "display_data"
    }
   ],
   "source": [
    "sns.FacetGrid(data = df1.query('province == \"TP. Đà Nẵng\"'), col = 'product', col_wrap = 5).map(sns.histplot, 'drop_rate', bins = 30, color = 'darkred')"
   ]
  },
  {
   "cell_type": "markdown",
   "id": "a78397c1",
   "metadata": {},
   "source": [
    "It is now clear that \"Nho đen Mỹ\", \"Nho đỏ không hạt Mỹ\", \"Nho xanh không hạt Mỹ\" were the products that largely responsible for the 90-100% drop rate."
   ]
  },
  {
   "cell_type": "markdown",
   "id": "3032fb81",
   "metadata": {},
   "source": [
    "According to the operations team, for \"Nho đen Mỹ\", \"Nho đỏ không hạt Mỹ\", there was a problem with the freezer leading to a high number of products being rejected by the distributor; for \"Nho đỏ không hạt Mỹ\" despite high number of orders, this product was out-of-stock for the most part."
   ]
  },
  {
   "cell_type": "markdown",
   "id": "680cab81",
   "metadata": {},
   "source": [
    "Despite high drop-rate, \"Nho đen Mỹ\" was ranked first and \"Nho xanh không hạt Mỹ\" was ranked third in terms of total revenue."
   ]
  },
  {
   "cell_type": "markdown",
   "id": "7f39b5a0",
   "metadata": {},
   "source": [
    "Q8: How is amount_ordered and amount_delivered correlate to one another?"
   ]
  },
  {
   "cell_type": "code",
   "execution_count": 40,
   "id": "20fd2e24",
   "metadata": {},
   "outputs": [
    {
     "data": {
      "text/plain": [
       "<AxesSubplot:xlabel='amount_ordered', ylabel='amount_delivered'>"
      ]
     },
     "execution_count": 40,
     "metadata": {},
     "output_type": "execute_result"
    },
    {
     "data": {
      "image/png": "[encoded data removed]",
      "text/plain": [
       "<Figure size 432x288 with 1 Axes>"
      ]
     },
     "metadata": {
      "needs_background": "light"
     },
     "output_type": "display_data"
    }
   ],
   "source": [
    "sns.regplot(data = df1,\n",
    "                x = 'amount_ordered',\n",
    "                y = 'amount_delivered',\n",
    "                color = 'darkred')"
   ]
  },
  {
   "cell_type": "markdown",
   "id": "af427821",
   "metadata": {},
   "source": [
    "In order to see if there was any more anomaly in drop-rate, we will look at the relationship between amount_ordered and amount_delivered. The upward sloping line indicates that most orders were; in fact, delivered; however there are two anomalies:\n",
    "- Horizontal line of dots at amount_delivered = 0 indicates orders that have 90-100% drop-rate (which we have addressed earlier on)\n",
    "- A dot at roughly (6000,450)"
   ]
  },
  {
   "cell_type": "markdown",
   "id": "9bfefb21",
   "metadata": {},
   "source": [
    "Q8: In TP. Hồ Chí Minh, how is amount_ordered and amount_delivered correlate to one another?"
   ]
  },
  {
   "cell_type": "code",
   "execution_count": 41,
   "id": "85f6e84b",
   "metadata": {},
   "outputs": [
    {
     "data": {
      "text/plain": [
       "<AxesSubplot:xlabel='amount_ordered', ylabel='amount_delivered'>"
      ]
     },
     "execution_count": 41,
     "metadata": {},
     "output_type": "execute_result"
    },
    {
     "data": {
      "image/png": "[encoded data removed]",
      "text/plain": [
       "<Figure size 432x288 with 1 Axes>"
      ]
     },
     "metadata": {
      "needs_background": "light"
     },
     "output_type": "display_data"
    }
   ],
   "source": [
    "sns.regplot(data = df1.query('province == \"TP. Hồ Chí Minh\"'),\n",
    "                x = 'amount_ordered',\n",
    "                y = 'amount_delivered',\n",
    "                color = 'darkred')"
   ]
  },
  {
   "cell_type": "markdown",
   "id": "ed59c176",
   "metadata": {},
   "source": [
    "In TP. Hồ Chí Minh, most orders were delivered; there was no horizontal line of dots, and the dot at around (6000,450) we seen in the previous report also appears suggesting that this order was made in TP. Hồ Chí Minh."
   ]
  },
  {
   "cell_type": "markdown",
   "id": "2cacf796",
   "metadata": {},
   "source": [
    "Drill down to have a closer look at the peculiar order:"
   ]
  },
  {
   "cell_type": "code",
   "execution_count": 42,
   "id": "0a1d184f",
   "metadata": {},
   "outputs": [
    {
     "data": {
      "text/html": [
       "<div>\n",
       "<style scoped>\n",
       "    .dataframe tbody tr th:only-of-type {\n",
       "        vertical-align: middle;\n",
       "    }\n",
       "\n",
       "    .dataframe tbody tr th {\n",
       "        vertical-align: top;\n",
       "    }\n",
       "\n",
       "    .dataframe thead th {\n",
       "        text-align: right;\n",
       "    }\n",
       "</style>\n",
       "<table border=\"1\" class=\"dataframe\">\n",
       "  <thead>\n",
       "    <tr style=\"text-align: right;\">\n",
       "      <th></th>\n",
       "      <th>po</th>\n",
       "      <th>province</th>\n",
       "      <th>shop</th>\n",
       "      <th>product</th>\n",
       "      <th>measurement</th>\n",
       "      <th>price</th>\n",
       "      <th>amount_ordered</th>\n",
       "      <th>amount_delivered</th>\n",
       "      <th>Ngày đặt hàng</th>\n",
       "      <th>Ngày giao hàng</th>\n",
       "      <th>revenue</th>\n",
       "      <th>drop_rate</th>\n",
       "    </tr>\n",
       "  </thead>\n",
       "  <tbody>\n",
       "    <tr>\n",
       "      <th>105</th>\n",
       "      <td>4143856841</td>\n",
       "      <td>TP. Hồ Chí Minh</td>\n",
       "      <td>P_Fresh_Miền Nam_Trái Cây Nhập Kh</td>\n",
       "      <td>Táo Fuji Nam Phi</td>\n",
       "      <td>KG</td>\n",
       "      <td>50000</td>\n",
       "      <td>6125.0</td>\n",
       "      <td>442.32</td>\n",
       "      <td>2022-11-04</td>\n",
       "      <td>2022-11-04 22:05:55</td>\n",
       "      <td>22116000.0</td>\n",
       "      <td>0.927784</td>\n",
       "    </tr>\n",
       "  </tbody>\n",
       "</table>\n",
       "</div>"
      ],
      "text/plain": [
       "             po         province                               shop  \\\n",
       "105  4143856841  TP. Hồ Chí Minh  P_Fresh_Miền Nam_Trái Cây Nhập Kh   \n",
       "\n",
       "              product measurement  price  amount_ordered  amount_delivered  \\\n",
       "105  Táo Fuji Nam Phi          KG  50000          6125.0            442.32   \n",
       "\n",
       "    Ngày đặt hàng      Ngày giao hàng     revenue  drop_rate  \n",
       "105    2022-11-04 2022-11-04 22:05:55  22116000.0   0.927784  "
      ]
     },
     "execution_count": 42,
     "metadata": {},
     "output_type": "execute_result"
    }
   ],
   "source": [
    "df1.query('province == \"TP. Hồ Chí Minh\" and amount_ordered > 6000')"
   ]
  },
  {
   "cell_type": "markdown",
   "id": "bf6462fe",
   "metadata": {},
   "source": [
    "This order, according to management, was not delivered as ordered because of insufficient stock."
   ]
  },
  {
   "cell_type": "markdown",
   "id": "c68d7d52",
   "metadata": {},
   "source": [
    "Q9: Besides product's quality and availability, does price affect drop-rate?"
   ]
  },
  {
   "cell_type": "code",
   "execution_count": 43,
   "id": "12db0b8d",
   "metadata": {},
   "outputs": [
    {
     "data": {
      "text/plain": [
       "<AxesSubplot:xlabel='price', ylabel='drop_rate'>"
      ]
     },
     "execution_count": 43,
     "metadata": {},
     "output_type": "execute_result"
    },
    {
     "data": {
      "image/png": "[encoded data removed]",
      "text/plain": [
       "<Figure size 432x288 with 1 Axes>"
      ]
     },
     "metadata": {
      "needs_background": "light"
     },
     "output_type": "display_data"
    }
   ],
   "source": [
    "sns.regplot(data = df1, x = 'price', y = 'drop_rate', color = 'darkred')"
   ]
  },
  {
   "cell_type": "markdown",
   "id": "8941d1a1",
   "metadata": {},
   "source": [
    "The relationship between price and drop-rate was quite abitrary suggest drop-rate is more product-based than price-based"
   ]
  },
  {
   "cell_type": "markdown",
   "id": "10bd4adb",
   "metadata": {},
   "source": [
    "Q10: Besides product's quality and availability, does ordered quantity affect drop-rate?"
   ]
  },
  {
   "cell_type": "code",
   "execution_count": 44,
   "id": "8beeeefd",
   "metadata": {},
   "outputs": [
    {
     "data": {
      "text/plain": [
       "<AxesSubplot:xlabel='amount_ordered', ylabel='drop_rate'>"
      ]
     },
     "execution_count": 44,
     "metadata": {},
     "output_type": "execute_result"
    },
    {
     "data": {
      "image/png": "[encoded data removed]",
      "text/plain": [
       "<Figure size 432x288 with 1 Axes>"
      ]
     },
     "metadata": {
      "needs_background": "light"
     },
     "output_type": "display_data"
    }
   ],
   "source": [
    "sns.regplot(data = df1, x = 'amount_ordered', y = 'drop_rate', color = 'darkred')"
   ]
  },
  {
   "cell_type": "markdown",
   "id": "24c16f8c",
   "metadata": {},
   "source": [
    "There was very little to no correlation between the amount ordered and drop-rate"
   ]
  },
  {
   "cell_type": "markdown",
   "id": "d9f5a924",
   "metadata": {},
   "source": [
    "### Part 3: Conclusion"
   ]
  },
  {
   "cell_type": "markdown",
   "id": "1caaee61",
   "metadata": {},
   "source": [
    "The distribution of revenue seems to skew heavily to shops in TP. Đà Nẵng which sells products such as \"Nho đen Mỹ\" and \"Nho xanh không hạt Mỹ\" although the drop-rate of these product were quite high. A fast actionable advice for the firm is that they should focus more on getting more volumn of these products and ensure that its quality meet standard."
   ]
  }
 ],
 "metadata": {
  "celltoolbar": "Format de la Cellule Texte Brut",
  "kernelspec": {
   "display_name": "Python 3 (ipykernel)",
   "language": "python",
   "name": "python3"
  },
  "language_info": {
   "codemirror_mode": {
    "name": "ipython",
    "version": 3
   },
   "file_extension": ".py",
   "mimetype": "text/x-python",
   "name": "python",
   "nbconvert_exporter": "python",
   "pygments_lexer": "ipython3",
   "version": "3.9.12"
  }
 },
 "nbformat": 4,
 "nbformat_minor": 5
}
